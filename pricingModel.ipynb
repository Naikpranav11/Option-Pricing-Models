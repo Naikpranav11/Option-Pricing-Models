{
 "cells": [
  {
   "cell_type": "markdown",
   "metadata": {},
   "source": [
    "# Natural Gas Pricing Model"
   ]
  },
  {
   "cell_type": "markdown",
   "metadata": {},
   "source": [
    "##   Parameters:\n",
    "  1. injection_dates (list of str): Dates when gas is injected.\n",
    "  2. withdrawal_dates (list of str): Dates when gas is withdrawn.\n",
    "  3. prices (dict): A dictionary with dates as keys and prices as values.\n",
    "  4. injection_rate (float): Rate at which gas is injected (units per day).\n",
    "  5. withdrawal_rate (float): Rate at which gas is withdrawn (units per day).\n",
    "  6. max_volume (float): Maximum volume that can be stored (units).\n",
    "  7. storage_cost_per_month (float): Monthly storage cost.\n",
    "  8. injection_cost (float): Cost per unit of gas injected.\n",
    "  9. withdrawal_cost (float): Cost per unit of gas withdrawn.\n",
    "  10. transport_cost (float): Fixed cost for each injection/withdrawal.\n"
   ]
  },
  {
   "cell_type": "code",
   "execution_count": 1,
   "metadata": {},
   "outputs": [],
   "source": [
    "import pandas as pd"
   ]
  },
  {
   "cell_type": "code",
   "execution_count": 5,
   "metadata": {},
   "outputs": [],
   "source": [
    "# Function to load the price data from the Excel file\n",
    "def load_price_data(file_path):\n",
    "    # Read the Excel file\n",
    "    data = pd.read_csv(file_path)\n",
    "    \n",
    "    # Convert the 'Date' column to datetime format\n",
    "    data['Dates'] = pd.to_datetime(data['Dates'])\n",
    "    \n",
    "    # Create a dictionary of prices with dates as keys and prices as values\n",
    "    price_data = pd.Series(data['Prices'].values, index=data['Dates']).to_dict()\n",
    "    \n",
    "    return price_data"
   ]
  },
  {
   "cell_type": "code",
   "execution_count": 6,
   "metadata": {},
   "outputs": [],
   "source": [
    "def calculate_contract_value(\n",
    "    injection_dates, withdrawal_dates, prices, injection_rate, withdrawal_rate, \n",
    "    max_volume, storage_cost_per_month, injection_cost, withdrawal_cost, transport_cost\n",
    "):\n",
    "   \n",
    "    # Convert dates to datetime\n",
    "    injection_dates = pd.to_datetime(injection_dates)\n",
    "    withdrawal_dates = pd.to_datetime(withdrawal_dates)\n",
    "\n",
    "    # Track volume in storage\n",
    "    total_volume = 0 \n",
    "    total_revenue = 0\n",
    "    total_expense = 0\n",
    "    total_storage_cost = 0\n",
    "\n",
    "    # Handle injections\n",
    "    for date in injection_dates:\n",
    "        if date in prices:\n",
    "            injection_price = prices[date]\n",
    "            inject_volume = min(injection_rate, max_volume - total_volume)  # Ensure no overflow\n",
    "            total_volume += inject_volume\n",
    "            total_expense += inject_volume * (injection_price + injection_cost)  # Add injection cost\n",
    "            total_expense += transport_cost  # Add transport cost for injection\n",
    "        else:\n",
    "            raise ValueError(f\"No price data available for injection date: {date}\")\n",
    "\n",
    "    # Handle withdrawals\n",
    "    for date in withdrawal_dates:\n",
    "        if date in prices:\n",
    "            withdrawal_price = prices[date]\n",
    "            withdraw_volume = min(withdrawal_rate, total_volume)  # Ensure no underflow\n",
    "            total_volume -= withdraw_volume\n",
    "            total_revenue += withdraw_volume * (withdrawal_price - withdrawal_cost)  # Subtract withdrawal cost\n",
    "            total_expense += transport_cost  # Add transport cost for withdrawal\n",
    "        else:\n",
    "            raise ValueError(f\"No price data available for withdrawal date: {date}\")\n",
    "\n",
    "    # Calculate storage cost\n",
    "    duration_months = (withdrawal_dates[-1] - injection_dates[0]).days / 30\n",
    "    total_storage_cost = duration_months * storage_cost_per_month\n",
    "\n",
    "    # Net value of the contract\n",
    "    contract_value = total_revenue - total_expense - total_storage_cost\n",
    "    return contract_value\n"
   ]
  },
  {
   "cell_type": "code",
   "execution_count": 10,
   "metadata": {},
   "outputs": [
    {
     "name": "stdout",
     "output_type": "stream",
     "text": [
      "Net Value of the Contract: $623,333.33\n"
     ]
    },
    {
     "name": "stderr",
     "output_type": "stream",
     "text": [
      "C:\\Users\\User\\AppData\\Local\\Temp\\ipykernel_2648\\2138249427.py:7: UserWarning: Could not infer format, so each element will be parsed individually, falling back to `dateutil`. To ensure parsing is consistent and as-expected, please specify a format.\n",
      "  data['Dates'] = pd.to_datetime(data['Dates'])\n"
     ]
    }
   ],
   "source": [
    "\n",
    "# Example Usage\n",
    "if __name__ == \"__main__\":\n",
    "    # Example price data (date: price)\n",
    "    file_name = \"Nat_Gas.csv\"\n",
    "    price_data = load_price_data(file_name)\n",
    "\n",
    "    # Inputs\n",
    "    injection_dates = ['2021-05-31', '2021-06-30', '2021-07-31']\n",
    "    withdrawal_dates = ['2022-01-31']\n",
    "    injection_rate = 1e6  # 1 million MMBtu/day\n",
    "    withdrawal_rate = 1e6  # 1 million MMBtu/day\n",
    "    max_volume = 1e6  # Maximum 1 million MMBtu in storage\n",
    "    storage_cost_per_month = 100000  # $100K/month\n",
    "    injection_cost = 0.01  # $10K per million MMBtu ($0.01/MMBtu)\n",
    "    withdrawal_cost = 0.01  # $10K per million MMBtu ($0.01/MMBtu)\n",
    "    transport_cost = 50000  # $50K fixed cost per injection/withdrawal\n",
    "\n",
    "    # Calculate contract value\n",
    "    contract_value = calculate_contract_value(\n",
    "        injection_dates, withdrawal_dates, price_data, injection_rate, \n",
    "        withdrawal_rate, max_volume, storage_cost_per_month, \n",
    "        injection_cost, withdrawal_cost, transport_cost\n",
    "    )\n",
    "    print(f\"Net Value of the Contract: ${contract_value:,.2f}\")"
   ]
  }
 ],
 "metadata": {
  "kernelspec": {
   "display_name": "Python 3",
   "language": "python",
   "name": "python3"
  },
  "language_info": {
   "codemirror_mode": {
    "name": "ipython",
    "version": 3
   },
   "file_extension": ".py",
   "mimetype": "text/x-python",
   "name": "python",
   "nbconvert_exporter": "python",
   "pygments_lexer": "ipython3",
   "version": "3.12.0"
  }
 },
 "nbformat": 4,
 "nbformat_minor": 2
}
