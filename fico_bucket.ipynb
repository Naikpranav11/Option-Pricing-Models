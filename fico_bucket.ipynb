{
 "cells": [
  {
   "cell_type": "code",
   "execution_count": null,
   "metadata": {
    "vscode": {
     "languageId": "plaintext"
    }
   },
   "outputs": [],
   "source": [
    "df = pd.read_csv(\"Task 3 and 4_Loan_Data.csv\")\n",
    "df.head()"
   ]
  },
  {
   "cell_type": "code",
   "execution_count": null,
   "metadata": {
    "vscode": {
     "languageId": "plaintext"
    }
   },
   "outputs": [],
   "source": [
    "from sklearn.cluster import KMeans\n",
    "import numpy as np\n",
    "\n",
    "n_buckets = 5\n",
    "# Reshape FICO scores for k-means\n",
    "fico_scores = df['fico_score'].values.reshape(-1, 1)\n",
    "\n",
    "# Fit k-means\n",
    "kmeans = KMeans(n_clusters= n_buckets, random_state=42)\n",
    "df['fico_rating_kmeans'] = kmeans.fit_predict(fico_scores)\n",
    "\n",
    "# Assign ratings (lower = better score)\n",
    "df['fico_rating_kmeans'] = df['fico_rating_kmeans'].map(\n",
    "    lambda x: n_buckets - x\n",
    ")\n",
    "\n",
    "# Display the resulting clusters\n",
    "print(df[['fico_score', 'fico_rating_kmeans']].head())"
   ]
  }
 ],
 "metadata": {
  "language_info": {
   "name": "python"
  }
 },
 "nbformat": 4,
 "nbformat_minor": 2
}
